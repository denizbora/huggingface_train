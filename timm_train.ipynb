{
 "cells": [
  {
   "cell_type": "code",
   "execution_count": null,
   "id": "initial_id",
   "metadata": {
    "collapsed": true
   },
   "outputs": [],
   "source": [
    "model_checkpoint = 'timm/maxvit_large_tf_384.in21k_ft_in1k' # pre-trained model from which to fine-tune\n",
    "model_name = model_checkpoint.split(\"/\")[-1]\n",
    "save_name = f\"{model_name}-finetuned\"\n",
    "batch_size = 32 # batch size for training and evaluation\n",
    "num_epoch = 128"
   ]
  },
  {
   "metadata": {},
   "cell_type": "code",
   "outputs": [],
   "execution_count": null,
   "source": [
    "from datasets import load_dataset \n",
    "\n",
    "dataset = load_dataset(\"imagefolder\", data_files={\"train\": \"Dataset/train/**\", \"val\": \"Dataset/val/**\"})"
   ],
   "id": "89084d905f33bda8"
  },
  {
   "metadata": {},
   "cell_type": "code",
   "outputs": [],
   "execution_count": null,
   "source": [
    "import timm\n",
    "\n",
    "model = timm.create_model(model_checkpoint, pretrained=True, num_classes=len(dataset['train'].features['label'].names))"
   ],
   "id": "ba2780a3eb6331ba"
  },
  {
   "metadata": {},
   "cell_type": "code",
   "outputs": [],
   "execution_count": null,
   "source": [
    "from torchvision import transforms\n",
    "import torch\n",
    "\n",
    "normalize = transforms.Normalize(mean=[0.485, 0.456, 0.406], std=[0.229, 0.224, 0.225])\n",
    "transform = transforms.Compose([\n",
    "    transforms.Resize((384, 384)),\n",
    "    transforms.ToTensor(),\n",
    "    normalize,\n",
    "])\n",
    "\n",
    "dataset = dataset.with_transform(lambda examples: {'pixel_values': [transform(image.convert(\"RGB\")) for image in examples['image']], 'label': examples['label']})\n",
    "\n",
    "\n",
    "train_loader = torch.utils.data.DataLoader(dataset['train'], batch_size=batch_size, shuffle=True)\n",
    "val_loader = torch.utils.data.DataLoader(dataset['val'], batch_size=batch_size)"
   ],
   "id": "ee016b885096c59d"
  },
  {
   "metadata": {},
   "cell_type": "code",
   "outputs": [],
   "execution_count": null,
   "source": [
    "import torch.nn as nn\n",
    "import torch.optim as optim\n",
    "\n",
    "device = torch.device('cuda' if torch.cuda.is_available() else 'cpu')\n",
    "model.to(device)\n",
    "\n",
    "criterion = nn.CrossEntropyLoss()\n",
    "optimizer = optim.Adam(model.parameters(), lr=0.001)"
   ],
   "id": "f40147356ce7f91e"
  },
  {
   "metadata": {},
   "cell_type": "code",
   "outputs": [],
   "execution_count": null,
   "source": [
    "import numpy as np\n",
    "\n",
    "\n",
    "class EarlyStopping:\n",
    "    def __init__(self, patience=5, min_delta=0):\n",
    "        self.patience = patience\n",
    "        self.min_delta = min_delta\n",
    "        self.best_loss = np.inf\n",
    "        self.counter = 0\n",
    "\n",
    "    def __call__(self, val_loss):\n",
    "        if val_loss < self.best_loss - self.min_delta:\n",
    "            self.best_loss = val_loss\n",
    "            self.counter = 0\n",
    "        else:\n",
    "            self.counter += 1\n",
    "\n",
    "        if self.counter >= self.patience:\n",
    "            print(\"Early stopping triggered\")\n",
    "            return True\n",
    "        return False\n",
    "    \n",
    "early_stopping = EarlyStopping(patience=3, min_delta=0.01)"
   ],
   "id": "7ae2ac52e249733a"
  },
  {
   "metadata": {},
   "cell_type": "code",
   "outputs": [],
   "execution_count": null,
   "source": [
    "from tqdm import tqdm\n",
    "\n",
    "\n",
    "for epoch in range(num_epoch):\n",
    "    model.train()\n",
    "    running_loss = 0.0\n",
    "    total_batches = len(train_loader)  # Toplam batch sayısı\n",
    "\n",
    "    # tqdm ile eğitim ilerlemesini göstermek için\n",
    "    with tqdm(total=total_batches, desc=f'Epoch {epoch + 1}/{num_epoch}', unit='batch') as pbar:\n",
    "        for i, inputs in enumerate(train_loader):\n",
    "            inputs = {k: v.to(device) for k, v in inputs.items()}\n",
    "            optimizer.zero_grad()\n",
    "            outputs = model(inputs['pixel_values'])\n",
    "            loss = criterion(outputs, inputs['label'])\n",
    "            loss.backward()\n",
    "            optimizer.step()\n",
    "            running_loss += loss.item()\n",
    "\n",
    "            # Yüzde ilerlemesini güncelle\n",
    "            pbar.set_postfix({'loss': running_loss / (i + 1)})\n",
    "            pbar.update(1)\n",
    "\n",
    "    print(f'Epoch {epoch + 1}, Training Loss: {running_loss / total_batches}')\n",
    "\n",
    "    # Validation Değerlendirmesi\n",
    "    model.eval()\n",
    "    val_loss = 0.0\n",
    "    correct = 0\n",
    "    total = 0\n",
    "    all_preds = []\n",
    "    all_labels = []\n",
    "    with torch.no_grad():\n",
    "        for inputs in val_loader:\n",
    "            inputs = {k: v.to(device) for k, v in inputs.items()}\n",
    "            outputs = model(inputs['pixel_values'])\n",
    "            loss = criterion(outputs, inputs['label'])\n",
    "            val_loss += loss.item()\n",
    "            _, predicted = torch.max(outputs.data, 1)\n",
    "            total += inputs['label'].size(0)\n",
    "            correct += (predicted == inputs['label']).sum().item()\n",
    "\n",
    "            all_preds.extend(predicted.cpu().numpy())\n",
    "            all_labels.extend(inputs['label'].cpu().numpy())\n",
    "\n",
    "    val_loss /= len(val_loader)\n",
    "    print(f'Validation Loss: {val_loss}, Accuracy: {100 * correct / total}%')\n",
    "\n",
    "    # Early Stopping Kontrolü\n",
    "    if early_stopping(val_loss):\n",
    "        break"
   ],
   "id": "d7b0cc7fc7df1c0c"
  },
  {
   "metadata": {},
   "cell_type": "code",
   "outputs": [],
   "execution_count": null,
   "source": "torch.save(model.state_dict(), save_name)",
   "id": "413565fc9f9167cd"
  },
  {
   "metadata": {},
   "cell_type": "code",
   "outputs": [],
   "execution_count": null,
   "source": [
    "from sklearn.metrics import confusion_matrix, ConfusionMatrixDisplay\n",
    "import matplotlib.pyplot as plt\n",
    "cm = confusion_matrix(all_labels, all_preds)\n",
    "disp = ConfusionMatrixDisplay(confusion_matrix=cm, display_labels=dataset['train'].features['label'].names)\n",
    "disp.plot(cmap=plt.cm.Blues)\n",
    "plt.show()"
   ],
   "id": "369c57980aac8c3e"
  },
  {
   "metadata": {},
   "cell_type": "code",
   "outputs": [],
   "execution_count": null,
   "source": [
    "from confusion import Confusion\n",
    "performances, _  = Confusion.getValues(cm)\n",
    "performances"
   ],
   "id": "f21e3903b1a166d9"
  }
 ],
 "metadata": {
  "kernelspec": {
   "display_name": "Python 3",
   "language": "python",
   "name": "python3"
  },
  "language_info": {
   "codemirror_mode": {
    "name": "ipython",
    "version": 2
   },
   "file_extension": ".py",
   "mimetype": "text/x-python",
   "name": "python",
   "nbconvert_exporter": "python",
   "pygments_lexer": "ipython2",
   "version": "2.7.6"
  }
 },
 "nbformat": 4,
 "nbformat_minor": 5
}
